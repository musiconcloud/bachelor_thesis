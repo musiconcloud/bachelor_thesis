{
 "cells": [
  {
   "cell_type": "code",
   "execution_count": 1,
   "metadata": {},
   "outputs": [],
   "source": [
    "import numpy as np\n",
    "np.set_printoptions(suppress=True, precision=5)\n",
    "import time\n",
    "import pandas as pd\n",
    "import scipy.spatial.distance as spdist\n",
    "\n",
    "# for performance measurement\n",
    "# %lprun -f [function to profile] [execution trigger]\n",
    "%load_ext line_profiler"
   ]
  },
  {
   "cell_type": "code",
   "execution_count": 2,
   "metadata": {},
   "outputs": [
    {
     "data": {
      "text/plain": [
       "(6540000,)"
      ]
     },
     "execution_count": 2,
     "metadata": {},
     "output_type": "execute_result"
    }
   ],
   "source": [
    "query_scores = np.fromfile(\"native-queries/native-query-scores.bin\", dtype='f')\n",
    "query_scores.shape"
   ]
  },
  {
   "cell_type": "code",
   "execution_count": 3,
   "metadata": {},
   "outputs": [
    {
     "name": "stdout",
     "output_type": "stream",
     "text": [
      "[1.      0.86154 0.76303 0.70082 0.69154 0.63187 0.63078 0.597   0.39991\n",
      " 0.39806 0.34944 0.3238  0.31499 0.2983  0.24113 0.23587 0.233   0.22473\n",
      " 0.22309 0.21943 0.20288 0.19483 0.19241 0.18163 0.17281 0.17081 0.16959\n",
      " 0.16804 0.16621 0.16207 0.16194 0.15713 0.15247 0.14817 0.1462  0.14411\n",
      " 0.14166 0.13771 0.13493 0.13477 0.13264 0.13195 0.12906 0.12826 0.12664\n",
      " 0.12257 0.12221 0.12177 0.11971 0.11966 0.11786 0.11386 0.11345 0.11311\n",
      " 0.11298 0.1124  0.11113 0.10563 0.10419 0.10283 0.10262 0.10107 0.1008\n",
      " 0.10015 0.09225 0.09151 0.08893 0.08851 0.08758 0.08668 0.0863  0.08616\n",
      " 0.08545 0.08544 0.08505 0.08456 0.08343 0.08306 0.08281 0.08263 0.08257\n",
      " 0.08188 0.08015 0.07971 0.07845 0.07843 0.07547 0.07515 0.07509 0.07455\n",
      " 0.07315 0.07139 0.07137 0.07098 0.07012 0.06991 0.06914 0.06889 0.06855\n",
      " 0.06825]\n"
     ]
    }
   ],
   "source": [
    "print(query_scores[0:100])"
   ]
  },
  {
   "cell_type": "code",
   "execution_count": 4,
   "metadata": {},
   "outputs": [],
   "source": [
    "# reshape np array into 327 x 20000 array\n",
    "query_scores = query_scores.reshape(327, 20000)"
   ]
  },
  {
   "cell_type": "code",
   "execution_count": 5,
   "metadata": {},
   "outputs": [
    {
     "data": {
      "text/plain": [
       "(6540000,)"
      ]
     },
     "execution_count": 5,
     "metadata": {},
     "output_type": "execute_result"
    }
   ],
   "source": [
    "query_frame_ids = np.fromfile(\"native-queries/native-query-frame-IDs.bin\", dtype='i')\n",
    "query_frame_ids.shape"
   ]
  },
  {
   "cell_type": "code",
   "execution_count": 6,
   "metadata": {},
   "outputs": [
    {
     "name": "stdout",
     "output_type": "stream",
     "text": [
      "[ 5697  5645 18842 10847  4872 15282  5644 11257  3449  5380 15283     1\n",
      "  4489 17026 10845   965  5643 18845 12903  2241 19246  2226 15342  3245\n",
      "   964  8758 12083 10711 19007 14892 15213 16454  4493 16475  3725  7890\n",
      "  4927   498 10710   452  8128 14617  2564   963 19121  2810 14099  3556\n",
      " 13992  6988   980 18702  2454 14890 13953  2663 16117  8347  2453 14374\n",
      "  9795  4375   729  5819  9391 12902 10846 15811  7889 16186 10848  3451\n",
      " 17975 19951 18358 16476 18843 18686  6129  7380 12721  5267  9626 17687\n",
      " 12334 15387 14540 14911  3622  4589 12085  7879 10496  3482 14615  6905\n",
      " 10152 19706  3481  9759]\n"
     ]
    }
   ],
   "source": [
    "print(query_frame_ids[0:100])"
   ]
  },
  {
   "cell_type": "code",
   "execution_count": 7,
   "metadata": {},
   "outputs": [],
   "source": [
    "# reshape np array into 327 x 20000 array\n",
    "query_frame_ids = query_frame_ids.reshape(327, 20000)"
   ]
  },
  {
   "cell_type": "code",
   "execution_count": 8,
   "metadata": {},
   "outputs": [
    {
     "data": {
      "text/plain": [
       "(2560000,)"
      ]
     },
     "execution_count": 8,
     "metadata": {},
     "output_type": "execute_result"
    }
   ],
   "source": [
    "frame_features = np.fromfile(\"native-queries/frame-features.bin\", dtype='f')\n",
    "frame_features.shape"
   ]
  },
  {
   "cell_type": "code",
   "execution_count": 9,
   "metadata": {},
   "outputs": [
    {
     "name": "stdout",
     "output_type": "stream",
     "text": [
      "[ 0.16691  0.56416  0.32702 -0.11217  0.19371  0.5717   0.1079  -0.04373\n",
      "  0.22609  0.0775   0.14043  0.08696  0.04192 -0.00181  0.02947 -0.05099\n",
      " -0.02955 -0.00342  0.06661  0.03804  0.01074  0.07426  0.05218  0.01714\n",
      " -0.05492  0.04126 -0.06568  0.05996 -0.03729 -0.06075  0.03306 -0.02322\n",
      " -0.01536 -0.00883  0.00342  0.01878  0.04251  0.02456 -0.0076   0.01512\n",
      "  0.02498 -0.02595 -0.01833 -0.00277 -0.00717  0.00178 -0.00322  0.00384\n",
      "  0.00497  0.01047 -0.0292   0.01857  0.01496  0.01483  0.03119  0.02505\n",
      " -0.03294  0.02223 -0.0336   0.01726 -0.01783  0.00684  0.01794 -0.00201\n",
      " -0.0444  -0.01943 -0.01307 -0.00856 -0.00216  0.00839  0.00798  0.0165\n",
      "  0.02071 -0.00376  0.01017  0.01088  0.00909 -0.0092  -0.00007 -0.03174\n",
      " -0.05065  0.03829  0.00424  0.00299  0.01122 -0.01765  0.00512 -0.00211\n",
      " -0.00814 -0.04114 -0.01271  0.01588 -0.01666  0.00565  0.01208 -0.02558\n",
      " -0.01413 -0.01899 -0.02829 -0.01703]\n"
     ]
    }
   ],
   "source": [
    "print(frame_features[0:100])"
   ]
  },
  {
   "cell_type": "code",
   "execution_count": 10,
   "metadata": {},
   "outputs": [],
   "source": [
    "# reshape np array into 20000 x 128 array\n",
    "frame_features = frame_features.reshape(20000, 128)"
   ]
  },
  {
   "cell_type": "code",
   "execution_count": 25,
   "metadata": {},
   "outputs": [],
   "source": [
    "# SOM Implementation\n",
    "\n",
    "class SOM:\n",
    "    \n",
    "    def __init__(self, som_size, data, sigma, lambda_, learning_rate, iterations):\n",
    "        \n",
    "        # sigma - radius of a neighborhood\n",
    "        self.som_size = som_size\n",
    "        self.data = data\n",
    "        self.sigma = sigma\n",
    "        self.learning_rate = learning_rate\n",
    "        # number of iterations\n",
    "        self.iterations = iterations\n",
    "        # lambda - time constant. used to update (= decay) the radius and learning rate\n",
    "        self.lambda_ = lambda_\n",
    "        # intialize SOM with random weights\n",
    "        self.som = np.random.random((som_size, som_size, data.shape[1]))\n",
    "       \n",
    "    def update_learning_rate(self, i):\n",
    "        return self.learning_rate * np.exp(-i / self.lambda_)\n",
    "\n",
    "    def update_sigma(self, i):\n",
    "        return self.sigma * np.exp(-i / self.lambda_)\n",
    "\n",
    "    def neighborhood_function(self, sigma, dist):\n",
    "        return np.exp(-(dist ** 2) / (2 * (sigma ** 2)))\n",
    "    \n",
    "    # improved euclidean distance function\n",
    "    def euclidean_dist(self, x, y):\n",
    "        return spdist.cdist(x.reshape(1, -1), y.reshape(1, -1), 'euclidean').reshape(1)[0]\n",
    "    \n",
    "    # finding Best Matching Unit (TODO later: consdier ranking)\n",
    "    def find_bmu(self, vector):\n",
    "        \n",
    "        min_dist = 1e+10\n",
    "        \n",
    "        for i in range(self.som.shape[0]):\n",
    "            for j in range(self.som.shape[1]):\n",
    "                \n",
    "                dist = self.euclidean_dist(self.som[i, j], vector)\n",
    "                \n",
    "                if dist < min_dist:\n",
    "                    min_dist = dist\n",
    "                    bmu_index = np.array([i, j])\n",
    "\n",
    "        return bmu_index\n",
    "                    \n",
    "    def train(self):\n",
    "        \n",
    "        start_time = time.time()\n",
    "        \n",
    "        index_list = np.random.permutation(20000)\n",
    "        \n",
    "        for random_index in index_list:\n",
    "        \n",
    "            for t in range(self.iterations):\n",
    "\n",
    "                random_input = self.data[random_index, :]\n",
    "                bmu_index = self.find_bmu(random_input)\n",
    "\n",
    "                # update learning rate and sigma with current time\n",
    "                learning_rate = self.update_learning_rate(t)\n",
    "                sigma = self.update_sigma(t)\n",
    "\n",
    "                # update the weights of BMU and its neighborhood\n",
    "                for i in range(self.som.shape[0]):\n",
    "                    for j in range(self.som.shape[1]):\n",
    "                        som_node = np.array([i,j])\n",
    "                        dist = self.euclidean_dist(som_node, bmu_index)\n",
    "                        self.som[i, j] =self.som[i,j]+learning_rate*self.neighborhood_function(sigma, dist)*(random_input - self.som[i,j])\n",
    "\n",
    "        print(\"Training complete. Time elapsed: %s seconds\" % (time.time() - start_time))\n",
    "\n",
    "    def node2image(self, filepaths):\n",
    "        \n",
    "        # run find_bmu to obtain BMU for each feature vector\n",
    "        \n",
    "        bmu_list = []\n",
    "        for vec in self.data:\n",
    "            bmu_list.append(self.find_bmu(vec))\n",
    "        \n",
    "        # storing the result in a dataframe. \n",
    "        # i-th row of the dataframe (ex: 4 1) is associated with the BMU coordinates of the i-th feature vector  \n",
    "        \n",
    "        data_ = pd.DataFrame(bmu_list, columns=['BMU_x','BMU_y'])\n",
    "        \n",
    "        # merge the 2 dataframes\n",
    "        \n",
    "        df = pd.concat([filepaths, data_], axis=1, join='inner')\n",
    "\n",
    "        # now we have:\n",
    "        \n",
    "        # filename ID BMU_x BMU_y\n",
    "        # ........ rows ........ \n",
    "        \n",
    "        return df\n",
    "        \n",
    "    #TODO:\n",
    "    def select_images(self, df):\n",
    "        \n",
    "        # empty dataframe with column names\n",
    "        selected_images = pd.DataFrame(columns = ['filename', 'ID', 'BMU_x', 'BMU_y'])\n",
    "        \n",
    "        for i in range(self.som_size):\n",
    "            for j in range(self.som_size):\n",
    "                \n",
    "                tmp = df.loc[(df.BMU_x == i) & (df.BMU_y == j)]\n",
    "                    \n",
    "                if(len(tmp) != 0):\n",
    "                        \n",
    "                    # random selection (for now)\n",
    "                    sample = tmp.sample()\n",
    "                    selected_images = selected_images.append(sample)\n",
    "        \n",
    "        print(\"The following were selected: \")\n",
    "        print(selected_images)\n",
    "        \n",
    "        return selected_images"
   ]
  },
  {
   "cell_type": "code",
   "execution_count": 26,
   "metadata": {
    "scrolled": false
   },
   "outputs": [
    {
     "name": "stdout",
     "output_type": "stream",
     "text": [
      "Training complete. Time elapsed: 351.8867573738098 seconds\n"
     ]
    }
   ],
   "source": [
    "# training SOM with size 5 x 5\n",
    "size = 5\n",
    "som = SOM(som_size=5, data=frame_features, sigma=1, lambda_=1e2, learning_rate=0.5, iterations=10)\n",
    "\n",
    "som.train()\n",
    "\n",
    "#%lprun -f SOM.train som.train(frame_features)"
   ]
  },
  {
   "cell_type": "code",
   "execution_count": 27,
   "metadata": {},
   "outputs": [],
   "source": [
    "# importing frame-ID-to-filepath.csv\n",
    "filepaths = pd.read_csv(r\"C:\\Users\\KWP\\bachelor_thesis\\native-queries\\frame-ID-to-filepath.csv\", sep=' ', names=['filename', 'ID'])                                                                                         "
   ]
  },
  {
   "cell_type": "code",
   "execution_count": 28,
   "metadata": {},
   "outputs": [],
   "source": [
    "df = som.node2image(filepaths)"
   ]
  },
  {
   "cell_type": "code",
   "execution_count": 29,
   "metadata": {
    "scrolled": true
   },
   "outputs": [
    {
     "name": "stdout",
     "output_type": "stream",
     "text": [
      "The following were selected: \n",
      "                                                filename     ID BMU_x BMU_y\n",
      "2636   v00974_s00005(f005072-f008419)_g00109_f008000.jpg   2636     0     0\n",
      "1147   v00395_s00043(f002450-f002475)_g00047_f002472.jpg   1147     0     3\n",
      "16082  v05754_s00007(f012042-f014228)_g00040_f013350.jpg  16082     0     4\n",
      "7795   v02845_s00013(f003259-f003603)_g00026_f003416.jpg   7795     1     0\n",
      "12404  v04444_s00001(f000116-f008706)_g00008_f001250.jpg  12404     1     1\n",
      "3877   v01416_s00012(f002049-f002090)_g00036_f002067.jpg   3877     1     3\n",
      "12985  v04660_s00002(f000198-f000399)_g00002_f000300.jpg  12985     1     4\n",
      "6469   v02382_s00357(f027883-f027972)_g00662_f027962.jpg   6469     2     0\n",
      "5923   v02190_s00230(f053318-f053532)_g00569_f053436.jpg   5923     2     2\n",
      "956    v00338_s00001(f012318-f012806)_g00061_f012467.jpg    956     2     3\n",
      "8638   v03137_s00094(f004591-f004620)_g00118_f004600.jpg   8638     2     4\n",
      "6887   v02522_s00009(f005089-f005331)_g00023_f005214.jpg   6887     3     0\n",
      "1786   v00652_s00034(f004966-f005124)_g00108_f005000.jpg   1786     3     1\n",
      "12937  v04635_s00325(f040032-f040100)_g00584_f040075.jpg  12937     3     2\n",
      "2147   v00799_s00174(f022375-f024057)_g00260_f023925.jpg   2147     3     3\n",
      "8308   v03010_s00218(f019076-f019124)_g00273_f019100.jpg   8308     4     0\n",
      "205    v00077_s00014(f008108-f009099)_g00068_f008200.jpg    205     4     1\n",
      "19507  v06973_s00054(f005405-f006785)_g00131_f005550.jpg  19507     4     2\n",
      "11044  v03982_s00000(f000000-f000526)_g00007_f000329.jpg  11044     4     3\n",
      "16735  v06006_s00196(f013537-f014587)_g00353_f014400.jpg  16735     4     4\n"
     ]
    },
    {
     "data": {
      "text/html": [
       "<div>\n",
       "<style scoped>\n",
       "    .dataframe tbody tr th:only-of-type {\n",
       "        vertical-align: middle;\n",
       "    }\n",
       "\n",
       "    .dataframe tbody tr th {\n",
       "        vertical-align: top;\n",
       "    }\n",
       "\n",
       "    .dataframe thead th {\n",
       "        text-align: right;\n",
       "    }\n",
       "</style>\n",
       "<table border=\"1\" class=\"dataframe\">\n",
       "  <thead>\n",
       "    <tr style=\"text-align: right;\">\n",
       "      <th></th>\n",
       "      <th>filename</th>\n",
       "      <th>ID</th>\n",
       "      <th>BMU_x</th>\n",
       "      <th>BMU_y</th>\n",
       "    </tr>\n",
       "  </thead>\n",
       "  <tbody>\n",
       "    <tr>\n",
       "      <th>2636</th>\n",
       "      <td>v00974_s00005(f005072-f008419)_g00109_f008000.jpg</td>\n",
       "      <td>2636</td>\n",
       "      <td>0</td>\n",
       "      <td>0</td>\n",
       "    </tr>\n",
       "    <tr>\n",
       "      <th>1147</th>\n",
       "      <td>v00395_s00043(f002450-f002475)_g00047_f002472.jpg</td>\n",
       "      <td>1147</td>\n",
       "      <td>0</td>\n",
       "      <td>3</td>\n",
       "    </tr>\n",
       "    <tr>\n",
       "      <th>16082</th>\n",
       "      <td>v05754_s00007(f012042-f014228)_g00040_f013350.jpg</td>\n",
       "      <td>16082</td>\n",
       "      <td>0</td>\n",
       "      <td>4</td>\n",
       "    </tr>\n",
       "    <tr>\n",
       "      <th>7795</th>\n",
       "      <td>v02845_s00013(f003259-f003603)_g00026_f003416.jpg</td>\n",
       "      <td>7795</td>\n",
       "      <td>1</td>\n",
       "      <td>0</td>\n",
       "    </tr>\n",
       "    <tr>\n",
       "      <th>12404</th>\n",
       "      <td>v04444_s00001(f000116-f008706)_g00008_f001250.jpg</td>\n",
       "      <td>12404</td>\n",
       "      <td>1</td>\n",
       "      <td>1</td>\n",
       "    </tr>\n",
       "    <tr>\n",
       "      <th>3877</th>\n",
       "      <td>v01416_s00012(f002049-f002090)_g00036_f002067.jpg</td>\n",
       "      <td>3877</td>\n",
       "      <td>1</td>\n",
       "      <td>3</td>\n",
       "    </tr>\n",
       "    <tr>\n",
       "      <th>12985</th>\n",
       "      <td>v04660_s00002(f000198-f000399)_g00002_f000300.jpg</td>\n",
       "      <td>12985</td>\n",
       "      <td>1</td>\n",
       "      <td>4</td>\n",
       "    </tr>\n",
       "    <tr>\n",
       "      <th>6469</th>\n",
       "      <td>v02382_s00357(f027883-f027972)_g00662_f027962.jpg</td>\n",
       "      <td>6469</td>\n",
       "      <td>2</td>\n",
       "      <td>0</td>\n",
       "    </tr>\n",
       "    <tr>\n",
       "      <th>5923</th>\n",
       "      <td>v02190_s00230(f053318-f053532)_g00569_f053436.jpg</td>\n",
       "      <td>5923</td>\n",
       "      <td>2</td>\n",
       "      <td>2</td>\n",
       "    </tr>\n",
       "    <tr>\n",
       "      <th>956</th>\n",
       "      <td>v00338_s00001(f012318-f012806)_g00061_f012467.jpg</td>\n",
       "      <td>956</td>\n",
       "      <td>2</td>\n",
       "      <td>3</td>\n",
       "    </tr>\n",
       "    <tr>\n",
       "      <th>8638</th>\n",
       "      <td>v03137_s00094(f004591-f004620)_g00118_f004600.jpg</td>\n",
       "      <td>8638</td>\n",
       "      <td>2</td>\n",
       "      <td>4</td>\n",
       "    </tr>\n",
       "    <tr>\n",
       "      <th>6887</th>\n",
       "      <td>v02522_s00009(f005089-f005331)_g00023_f005214.jpg</td>\n",
       "      <td>6887</td>\n",
       "      <td>3</td>\n",
       "      <td>0</td>\n",
       "    </tr>\n",
       "    <tr>\n",
       "      <th>1786</th>\n",
       "      <td>v00652_s00034(f004966-f005124)_g00108_f005000.jpg</td>\n",
       "      <td>1786</td>\n",
       "      <td>3</td>\n",
       "      <td>1</td>\n",
       "    </tr>\n",
       "    <tr>\n",
       "      <th>12937</th>\n",
       "      <td>v04635_s00325(f040032-f040100)_g00584_f040075.jpg</td>\n",
       "      <td>12937</td>\n",
       "      <td>3</td>\n",
       "      <td>2</td>\n",
       "    </tr>\n",
       "    <tr>\n",
       "      <th>2147</th>\n",
       "      <td>v00799_s00174(f022375-f024057)_g00260_f023925.jpg</td>\n",
       "      <td>2147</td>\n",
       "      <td>3</td>\n",
       "      <td>3</td>\n",
       "    </tr>\n",
       "    <tr>\n",
       "      <th>8308</th>\n",
       "      <td>v03010_s00218(f019076-f019124)_g00273_f019100.jpg</td>\n",
       "      <td>8308</td>\n",
       "      <td>4</td>\n",
       "      <td>0</td>\n",
       "    </tr>\n",
       "    <tr>\n",
       "      <th>205</th>\n",
       "      <td>v00077_s00014(f008108-f009099)_g00068_f008200.jpg</td>\n",
       "      <td>205</td>\n",
       "      <td>4</td>\n",
       "      <td>1</td>\n",
       "    </tr>\n",
       "    <tr>\n",
       "      <th>19507</th>\n",
       "      <td>v06973_s00054(f005405-f006785)_g00131_f005550.jpg</td>\n",
       "      <td>19507</td>\n",
       "      <td>4</td>\n",
       "      <td>2</td>\n",
       "    </tr>\n",
       "    <tr>\n",
       "      <th>11044</th>\n",
       "      <td>v03982_s00000(f000000-f000526)_g00007_f000329.jpg</td>\n",
       "      <td>11044</td>\n",
       "      <td>4</td>\n",
       "      <td>3</td>\n",
       "    </tr>\n",
       "    <tr>\n",
       "      <th>16735</th>\n",
       "      <td>v06006_s00196(f013537-f014587)_g00353_f014400.jpg</td>\n",
       "      <td>16735</td>\n",
       "      <td>4</td>\n",
       "      <td>4</td>\n",
       "    </tr>\n",
       "  </tbody>\n",
       "</table>\n",
       "</div>"
      ],
      "text/plain": [
       "                                                filename     ID BMU_x BMU_y\n",
       "2636   v00974_s00005(f005072-f008419)_g00109_f008000.jpg   2636     0     0\n",
       "1147   v00395_s00043(f002450-f002475)_g00047_f002472.jpg   1147     0     3\n",
       "16082  v05754_s00007(f012042-f014228)_g00040_f013350.jpg  16082     0     4\n",
       "7795   v02845_s00013(f003259-f003603)_g00026_f003416.jpg   7795     1     0\n",
       "12404  v04444_s00001(f000116-f008706)_g00008_f001250.jpg  12404     1     1\n",
       "3877   v01416_s00012(f002049-f002090)_g00036_f002067.jpg   3877     1     3\n",
       "12985  v04660_s00002(f000198-f000399)_g00002_f000300.jpg  12985     1     4\n",
       "6469   v02382_s00357(f027883-f027972)_g00662_f027962.jpg   6469     2     0\n",
       "5923   v02190_s00230(f053318-f053532)_g00569_f053436.jpg   5923     2     2\n",
       "956    v00338_s00001(f012318-f012806)_g00061_f012467.jpg    956     2     3\n",
       "8638   v03137_s00094(f004591-f004620)_g00118_f004600.jpg   8638     2     4\n",
       "6887   v02522_s00009(f005089-f005331)_g00023_f005214.jpg   6887     3     0\n",
       "1786   v00652_s00034(f004966-f005124)_g00108_f005000.jpg   1786     3     1\n",
       "12937  v04635_s00325(f040032-f040100)_g00584_f040075.jpg  12937     3     2\n",
       "2147   v00799_s00174(f022375-f024057)_g00260_f023925.jpg   2147     3     3\n",
       "8308   v03010_s00218(f019076-f019124)_g00273_f019100.jpg   8308     4     0\n",
       "205    v00077_s00014(f008108-f009099)_g00068_f008200.jpg    205     4     1\n",
       "19507  v06973_s00054(f005405-f006785)_g00131_f005550.jpg  19507     4     2\n",
       "11044  v03982_s00000(f000000-f000526)_g00007_f000329.jpg  11044     4     3\n",
       "16735  v06006_s00196(f013537-f014587)_g00353_f014400.jpg  16735     4     4"
      ]
     },
     "execution_count": 29,
     "metadata": {},
     "output_type": "execute_result"
    }
   ],
   "source": [
    "selected_images = som.select_images(df)"
   ]
  }
 ],
 "metadata": {
  "kernelspec": {
   "display_name": "Python 3",
   "language": "python",
   "name": "python3"
  },
  "language_info": {
   "codemirror_mode": {
    "name": "ipython",
    "version": 3
   },
   "file_extension": ".py",
   "mimetype": "text/x-python",
   "name": "python",
   "nbconvert_exporter": "python",
   "pygments_lexer": "ipython3",
   "version": "3.7.3"
  }
 },
 "nbformat": 4,
 "nbformat_minor": 2
}
