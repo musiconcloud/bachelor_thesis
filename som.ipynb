{
 "cells": [
  {
   "cell_type": "code",
   "execution_count": 1,
   "metadata": {},
   "outputs": [],
   "source": [
    "import numpy as np\n",
    "np.set_printoptions(suppress=True, precision=5)\n",
    "import time\n",
    "import pandas as pd"
   ]
  },
  {
   "cell_type": "code",
   "execution_count": 2,
   "metadata": {},
   "outputs": [
    {
     "data": {
      "text/plain": [
       "(6540000,)"
      ]
     },
     "execution_count": 2,
     "metadata": {},
     "output_type": "execute_result"
    }
   ],
   "source": [
    "query_scores = np.fromfile(\"native-queries/native-query-scores.bin\", dtype='f')\n",
    "query_scores.shape"
   ]
  },
  {
   "cell_type": "code",
   "execution_count": 3,
   "metadata": {},
   "outputs": [
    {
     "name": "stdout",
     "output_type": "stream",
     "text": [
      "[1.      0.86154 0.76303 0.70082 0.69154 0.63187 0.63078 0.597   0.39991\n",
      " 0.39806 0.34944 0.3238  0.31499 0.2983  0.24113 0.23587 0.233   0.22473\n",
      " 0.22309 0.21943 0.20288 0.19483 0.19241 0.18163 0.17281 0.17081 0.16959\n",
      " 0.16804 0.16621 0.16207 0.16194 0.15713 0.15247 0.14817 0.1462  0.14411\n",
      " 0.14166 0.13771 0.13493 0.13477 0.13264 0.13195 0.12906 0.12826 0.12664\n",
      " 0.12257 0.12221 0.12177 0.11971 0.11966 0.11786 0.11386 0.11345 0.11311\n",
      " 0.11298 0.1124  0.11113 0.10563 0.10419 0.10283 0.10262 0.10107 0.1008\n",
      " 0.10015 0.09225 0.09151 0.08893 0.08851 0.08758 0.08668 0.0863  0.08616\n",
      " 0.08545 0.08544 0.08505 0.08456 0.08343 0.08306 0.08281 0.08263 0.08257\n",
      " 0.08188 0.08015 0.07971 0.07845 0.07843 0.07547 0.07515 0.07509 0.07455\n",
      " 0.07315 0.07139 0.07137 0.07098 0.07012 0.06991 0.06914 0.06889 0.06855\n",
      " 0.06825]\n"
     ]
    }
   ],
   "source": [
    "print(query_scores[0:100])"
   ]
  },
  {
   "cell_type": "code",
   "execution_count": 4,
   "metadata": {},
   "outputs": [],
   "source": [
    "# reshape np array into 327 x 20000 array\n",
    "query_scores = query_scores.reshape(327, 20000)"
   ]
  },
  {
   "cell_type": "code",
   "execution_count": 5,
   "metadata": {},
   "outputs": [
    {
     "data": {
      "text/plain": [
       "(6540000,)"
      ]
     },
     "execution_count": 5,
     "metadata": {},
     "output_type": "execute_result"
    }
   ],
   "source": [
    "query_frame_ids = np.fromfile(\"native-queries/native-query-frame-IDs.bin\", dtype='i')\n",
    "query_frame_ids.shape"
   ]
  },
  {
   "cell_type": "code",
   "execution_count": 6,
   "metadata": {},
   "outputs": [
    {
     "name": "stdout",
     "output_type": "stream",
     "text": [
      "[ 5697  5645 18842 10847  4872 15282  5644 11257  3449  5380 15283     1\n",
      "  4489 17026 10845   965  5643 18845 12903  2241 19246  2226 15342  3245\n",
      "   964  8758 12083 10711 19007 14892 15213 16454  4493 16475  3725  7890\n",
      "  4927   498 10710   452  8128 14617  2564   963 19121  2810 14099  3556\n",
      " 13992  6988   980 18702  2454 14890 13953  2663 16117  8347  2453 14374\n",
      "  9795  4375   729  5819  9391 12902 10846 15811  7889 16186 10848  3451\n",
      " 17975 19951 18358 16476 18843 18686  6129  7380 12721  5267  9626 17687\n",
      " 12334 15387 14540 14911  3622  4589 12085  7879 10496  3482 14615  6905\n",
      " 10152 19706  3481  9759]\n"
     ]
    }
   ],
   "source": [
    "print(query_frame_ids[0:100])"
   ]
  },
  {
   "cell_type": "code",
   "execution_count": 7,
   "metadata": {},
   "outputs": [],
   "source": [
    "# reshape np array into 327 x 20000 array\n",
    "query_frame_ids = query_frame_ids.reshape(327, 20000)"
   ]
  },
  {
   "cell_type": "code",
   "execution_count": 8,
   "metadata": {},
   "outputs": [
    {
     "data": {
      "text/plain": [
       "(2560000,)"
      ]
     },
     "execution_count": 8,
     "metadata": {},
     "output_type": "execute_result"
    }
   ],
   "source": [
    "frame_features = np.fromfile(\"native-queries/frame-features.bin\", dtype='f')\n",
    "frame_features.shape"
   ]
  },
  {
   "cell_type": "code",
   "execution_count": 9,
   "metadata": {},
   "outputs": [
    {
     "name": "stdout",
     "output_type": "stream",
     "text": [
      "[ 0.16691  0.56416  0.32702 -0.11217  0.19371  0.5717   0.1079  -0.04373\n",
      "  0.22609  0.0775   0.14043  0.08696  0.04192 -0.00181  0.02947 -0.05099\n",
      " -0.02955 -0.00342  0.06661  0.03804  0.01074  0.07426  0.05218  0.01714\n",
      " -0.05492  0.04126 -0.06568  0.05996 -0.03729 -0.06075  0.03306 -0.02322\n",
      " -0.01536 -0.00883  0.00342  0.01878  0.04251  0.02456 -0.0076   0.01512\n",
      "  0.02498 -0.02595 -0.01833 -0.00277 -0.00717  0.00178 -0.00322  0.00384\n",
      "  0.00497  0.01047 -0.0292   0.01857  0.01496  0.01483  0.03119  0.02505\n",
      " -0.03294  0.02223 -0.0336   0.01726 -0.01783  0.00684  0.01794 -0.00201\n",
      " -0.0444  -0.01943 -0.01307 -0.00856 -0.00216  0.00839  0.00798  0.0165\n",
      "  0.02071 -0.00376  0.01017  0.01088  0.00909 -0.0092  -0.00007 -0.03174\n",
      " -0.05065  0.03829  0.00424  0.00299  0.01122 -0.01765  0.00512 -0.00211\n",
      " -0.00814 -0.04114 -0.01271  0.01588 -0.01666  0.00565  0.01208 -0.02558\n",
      " -0.01413 -0.01899 -0.02829 -0.01703]\n"
     ]
    }
   ],
   "source": [
    "print(frame_features[0:100])"
   ]
  },
  {
   "cell_type": "code",
   "execution_count": 10,
   "metadata": {},
   "outputs": [],
   "source": [
    "# reshape np array into 20000 x 128 array\n",
    "frame_features = frame_features.reshape(20000, 128)"
   ]
  },
  {
   "cell_type": "code",
   "execution_count": 75,
   "metadata": {},
   "outputs": [],
   "source": [
    "# SOM Implementation\n",
    "\n",
    "class SOM:\n",
    "    \n",
    "    def __init__(self, som_size, data, sigma, lambda_, learning_rate, iterations):\n",
    "        \n",
    "        # sigma - radius of a neighborhood\n",
    "        self.som_size = som_size\n",
    "        self.data = data\n",
    "        self.sigma = sigma\n",
    "        self.learning_rate = learning_rate\n",
    "        # number of iterations\n",
    "        self.iterations = iterations\n",
    "        # lambda - time constant. used to update (= decay) the radius and learning rate\n",
    "        self.lambda_ = lambda_\n",
    "        # intialize SOM with random weights\n",
    "        self.som = np.random.random((som_size, som_size, data.shape[1]))\n",
    "       \n",
    "    def update_learning_rate(self, i):\n",
    "        return self.learning_rate * np.exp(-i / self.lambda_)\n",
    "\n",
    "    def update_sigma(self, i):\n",
    "        return self.sigma * np.exp(-i / self.lambda_)\n",
    "\n",
    "    def neighborhood_function(self, sigma, dist):\n",
    "        return np.exp(-(dist ** 2) / (2 * (sigma ** 2)))\n",
    "    \n",
    "    # calculating euclidean distance\n",
    "    def euclidean_dist(self, x, y):\n",
    "        return np.sqrt(np.sum((x - y) **2))\n",
    "    \n",
    "    # finding Best Matching Unit (TODO later: consdier ranking)\n",
    "    def find_bmu(self, vector):\n",
    "        \n",
    "        min_dist = 1e+10\n",
    "        for i in range(self.som.shape[0]):\n",
    "            for j in range(self.som.shape[1]):\n",
    "                dist = self.euclidean_dist(self.som[i, j], vector)\n",
    "                if dist < min_dist:\n",
    "                    min_dist = dist\n",
    "                    bmu_index = np.array([i, j])\n",
    "\n",
    "        return bmu_index\n",
    "                    \n",
    "    def train(self):\n",
    "        \n",
    "        start_time = time.time()\n",
    "        \n",
    "        for t in range(self.iterations):\n",
    "\n",
    "            # randomly select an input row, find BMU\n",
    "            rand = np.random.randint(0, self.data.shape[0])\n",
    "            random_input = self.data[rand, :]\n",
    "            bmu_index = self.find_bmu(random_input)\n",
    "            \n",
    "            # update learning rate and sigma with current time\n",
    "            learning_rate = self.update_learning_rate(t)\n",
    "            sigma = self.update_sigma(t)\n",
    "            \n",
    "            # update the weights of BMU and its neighborhood\n",
    "            for i in range(self.som.shape[0]):\n",
    "                for j in range(self.som.shape[1]):\n",
    "                    som_node = np.array([i,j])\n",
    "                    dist = self.euclidean_dist(som_node, bmu_index)\n",
    "                    self.som[i, j] = self.som[i,j] + learning_rate * self.neighborhood_function(sigma, dist) * (random_input - self.som[i,j])\n",
    "\n",
    "        print(\"Training complete. Time elapsed: %s seconds\" % (time.time() - start_time))\n",
    "\n",
    "    def node2image(self, filepaths):\n",
    "        \n",
    "        # run find_bmu to obtain BMU for each feature vector\n",
    "        \n",
    "        bmu_list = []\n",
    "        for vec in self.data:\n",
    "            bmu_list.append(self.find_bmu(vec))\n",
    "        \n",
    "        # storing the result in a dataframe. \n",
    "        # i-th row of the dataframe (ex: 4 1) is associated with the BMU coordinates of the i-th feature vector  \n",
    "        \n",
    "        data_ = pd.DataFrame(bmu_list, columns=['BMU_x','BMU_y'])\n",
    "        \n",
    "        # merge the 2 dataframes\n",
    "        \n",
    "        df = pd.concat([filepaths, data_], axis=1, join='inner')\n",
    "\n",
    "        # now we have:\n",
    "        \n",
    "        # filename ID BMU_x BMU_y\n",
    "        # ........ rows ........ \n",
    "        \n",
    "        return df\n",
    "        \n",
    "    #TODO:\n",
    "    def select_images(self, df):\n",
    "        \n",
    "        for i in range(self.som_size):\n",
    "            for j in range(self.som_size):\n",
    "                tmp = df.loc[(df.BMU_x == i) & (df.BMU_y == j)]\n",
    "                \n",
    "                print(\"df for i = {} & j = {}: {}\".format(i, j, tmp.head()))"
   ]
  },
  {
   "cell_type": "code",
   "execution_count": 76,
   "metadata": {
    "scrolled": false
   },
   "outputs": [
    {
     "name": "stdout",
     "output_type": "stream",
     "text": [
      "Training complete. Time elapsed: 0.07340717315673828 seconds\n"
     ]
    }
   ],
   "source": [
    "# training SOM with size 5 x 5\n",
    "size = 5\n",
    "som = SOM(som_size=5, data=frame_features, sigma=1, lambda_=1e2, learning_rate=0.5, iterations=100)\n",
    "som.train()"
   ]
  },
  {
   "cell_type": "code",
   "execution_count": 77,
   "metadata": {},
   "outputs": [],
   "source": [
    "# importing frame-ID-to-filepath.csv\n",
    "filepaths = pd.read_csv(r\"C:\\Users\\KWP\\bachelor_thesis\\native-queries\\frame-ID-to-filepath.csv\", sep=' ', names=['filename', 'ID'])                                                                                         "
   ]
  },
  {
   "cell_type": "code",
   "execution_count": 78,
   "metadata": {},
   "outputs": [
    {
     "name": "stdout",
     "output_type": "stream",
     "text": [
      "                                                filename     ID  BMU_x  BMU_y\n",
      "0      v00000_s00000(f000000-f000013)_g00000_f000000.jpg      0      1      2\n",
      "1      v00000_s00017(f002103-f002959)_g00050_f002800.jpg      1      0      0\n",
      "2      v00000_s00029(f006081-f006173)_g00100_f006150.jpg      2      2      1\n",
      "3      v00001_s00022(f002857-f002924)_g00035_f002907.jpg      3      1      0\n",
      "4      v00001_s00053(f007125-f007189)_g00085_f007162.jpg      4      2      1\n",
      "5      v00002_s00034(f002452-f002503)_g00046_f002487.jpg      5      1      2\n",
      "6      v00002_s00062(f004514-f004638)_g00096_f004585.jpg      6      2      1\n",
      "7      v00002_s00095(f006787-f006883)_g00146_f006833.jpg      7      1      1\n",
      "8      v00002_s00129(f009078-f009146)_g00196_f009140.jpg      8      0      2\n",
      "9      v00002_s00160(f010979-f011043)_g00246_f011028.jpg      9      0      1\n",
      "10     v00003_s00028(f003123-f003198)_g00043_f003176.jpg     10      1      1\n",
      "11     v00004_s00014(f002349-f002488)_g00027_f002397.jpg     11      1      1\n",
      "12     v00004_s00048(f006290-f006400)_g00077_f006353.jpg     12      1      1\n",
      "13     v00005_s00010(f001006-f001053)_g00016_f001048.jpg     13      1      1\n",
      "14     v00005_s00052(f005310-f005449)_g00066_f005394.jpg     14      1      1\n",
      "15     v00006_s00015(f002231-f002420)_g00028_f002400.jpg     15      1      0\n",
      "16     v00006_s00033(f004957-f005173)_g00078_f005125.jpg     16      1      2\n",
      "17     v00007_s00006(f001917-f002050)_g00030_f002000.jpg     17      1      2\n",
      "18     v00007_s00019(f005111-f005271)_g00080_f005175.jpg     18      1      2\n",
      "19     v00007_s00036(f009134-f009378)_g00130_f009150.jpg     19      1      2\n",
      "20     v00007_s00048(f012456-f012605)_g00180_f012475.jpg     20      1      2\n",
      "21     v00008_s00003(f000145-f005206)_g00015_f001728.jpg     21      0      0\n",
      "22     v00009_s00001(f000050-f000405)_g00008_f000350.jpg     22      0      0\n",
      "23     v00009_s00010(f002308-f002615)_g00058_f002550.jpg     23      0      0\n",
      "24     v00009_s00016(f004066-f004635)_g00108_f004425.jpg     24      0      0\n",
      "25     v00010_s00033(f003443-f003691)_g00039_f003476.jpg     25      0      2\n",
      "26     v00010_s00071(f007927-f007972)_g00089_f007972.jpg     26      0      2\n",
      "27     v00010_s00097(f010851-f010950)_g00139_f010939.jpg     27      0      2\n",
      "28     v00010_s00124(f013920-f014566)_g00189_f014145.jpg     28      0      2\n",
      "29     v00011_s00010(f000961-f001112)_g00016_f001108.jpg     29      2      1\n",
      "...                                                  ...    ...    ...    ...\n",
      "19970  v07168_s00044(f006121-f006261)_g00061_f006175.jpg  19970      1      0\n",
      "19971  v07169_s00000(f000000-f000013)_g00000_f000000.jpg  19971      1      2\n",
      "19972  v07169_s00040(f003275-f003310)_g00050_f003300.jpg  19972      1      2\n",
      "19973  v07170_s00014(f002478-f002585)_g00016_f002541.jpg  19973      1      0\n",
      "19974  v07170_s00027(f004761-f005566)_g00066_f005058.jpg  19974      1      1\n",
      "19975  v07170_s00041(f011784-f012154)_g00116_f011964.jpg  19975      0      1\n",
      "19976  v07171_s00005(f000898-f001129)_g00013_f000935.jpg  19976      1      0\n",
      "19977  v07171_s00017(f003156-f003407)_g00063_f003188.jpg  19977      1      0\n",
      "19978  v07173_s00007(f000461-f000535)_g00009_f000500.jpg  19978      2      1\n",
      "19979  v07173_s00050(f003713-f004044)_g00059_f003900.jpg  19979      0      1\n",
      "19980  v07174_s00007(f001961-f004262)_g00028_f002352.jpg  19980      1      2\n",
      "19981  v07174_s00012(f005822-f006439)_g00078_f005928.jpg  19981      1      2\n",
      "19982  v07174_s00018(f007983-f008969)_g00128_f008400.jpg  19982      1      2\n",
      "19983  v07174_s00023(f011928-f012167)_g00178_f012048.jpg  19983      1      2\n",
      "19984  v07175_s00031(f001863-f001892)_g00049_f001888.jpg  19984      0      2\n",
      "19985  v07175_s00051(f003794-f004790)_g00099_f004225.jpg  19985      1      0\n",
      "19986  v07176_s00000(f000000-f000051)_g00002_f000050.jpg  19986      1      1\n",
      "19987  v07176_s00029(f002724-f002827)_g00052_f002750.jpg  19987      0      2\n",
      "19988  v07176_s00052(f006725-f006864)_g00102_f006800.jpg  19988      1      2\n",
      "19989  v07177_s00006(f000524-f000615)_g00018_f000575.jpg  19989      0      2\n",
      "19990  v07177_s00049(f003680-f003713)_g00068_f003700.jpg  19990      1      2\n",
      "19991  v07178_s00000(f000000-f000211)_g00000_f000119.jpg  19991      1      2\n",
      "19992  v07179_s00011(f001598-f001725)_g00016_f001675.jpg  19992      1      0\n",
      "19993  v07180_s00002(f000168-f001056)_g00004_f000480.jpg  19993      0      2\n",
      "19994  v07180_s00019(f004978-f005133)_g00054_f005130.jpg  19994      1      2\n",
      "19995  v07180_s00051(f007903-f007999)_g00104_f007950.jpg  19995      1      2\n",
      "19996  v07180_s00086(f011167-f011204)_g00154_f011190.jpg  19996      1      2\n",
      "19997  v07181_s00013(f001282-f001392)_g00036_f001350.jpg  19997      0      1\n",
      "19998  v07181_s00046(f003101-f003192)_g00086_f003175.jpg  19998      0      2\n",
      "19999  v07181_s00080(f004820-f005225)_g00136_f005125.jpg  19999      0      2\n",
      "\n",
      "[20000 rows x 4 columns]\n"
     ]
    }
   ],
   "source": [
    "df = som.node2image(filepaths)"
   ]
  },
  {
   "cell_type": "code",
   "execution_count": 79,
   "metadata": {
    "scrolled": true
   },
   "outputs": [
    {
     "name": "stdout",
     "output_type": "stream",
     "text": [
      "df for i = 0 & j = 0:                                              filename  ID  BMU_x  BMU_y\n",
      "1   v00000_s00017(f002103-f002959)_g00050_f002800.jpg   1      0      0\n",
      "21  v00008_s00003(f000145-f005206)_g00015_f001728.jpg  21      0      0\n",
      "22  v00009_s00001(f000050-f000405)_g00008_f000350.jpg  22      0      0\n",
      "23  v00009_s00010(f002308-f002615)_g00058_f002550.jpg  23      0      0\n",
      "24  v00009_s00016(f004066-f004635)_g00108_f004425.jpg  24      0      0\n",
      "df for i = 0 & j = 1:                                              filename  ID  BMU_x  BMU_y\n",
      "9   v00002_s00160(f010979-f011043)_g00246_f011028.jpg   9      0      1\n",
      "39  v00015_s00029(f007898-f008573)_g00054_f008121.jpg  39      0      1\n",
      "56  v00021_s00016(f008964-f009479)_g00087_f009325.jpg  56      0      1\n",
      "57  v00022_s00010(f001692-f002051)_g00044_f002007.jpg  57      0      1\n",
      "59  v00022_s00046(f006646-f007048)_g00144_f006953.jpg  59      0      1\n",
      "df for i = 0 & j = 2:                                              filename  ID  BMU_x  BMU_y\n",
      "8   v00002_s00129(f009078-f009146)_g00196_f009140.jpg   8      0      2\n",
      "25  v00010_s00033(f003443-f003691)_g00039_f003476.jpg  25      0      2\n",
      "26  v00010_s00071(f007927-f007972)_g00089_f007972.jpg  26      0      2\n",
      "27  v00010_s00097(f010851-f010950)_g00139_f010939.jpg  27      0      2\n",
      "28  v00010_s00124(f013920-f014566)_g00189_f014145.jpg  28      0      2\n",
      "df for i = 0 & j = 3:                                                filename    ID  BMU_x  BMU_y\n",
      "150   v00056_s00021(f014681-f016665)_g00088_f016000.jpg   150      0      3\n",
      "3902  v01424_s00051(f003892-f003987)_g00078_f003980.jpg  3902      0      3\n",
      "4157  v01508_s00120(f025578-f025877)_g00290_f025850.jpg  4157      0      3\n",
      "df for i = 0 & j = 4: Empty DataFrame\n",
      "Columns: [filename, ID, BMU_x, BMU_y]\n",
      "Index: []\n",
      "df for i = 1 & j = 0:                                              filename  ID  BMU_x  BMU_y\n",
      "3   v00001_s00022(f002857-f002924)_g00035_f002907.jpg   3      1      0\n",
      "15  v00006_s00015(f002231-f002420)_g00028_f002400.jpg  15      1      0\n",
      "31  v00011_s00055(f007929-f007967)_g00116_f007942.jpg  31      1      0\n",
      "32  v00012_s00011(f002222-f002473)_g00018_f002350.jpg  32      1      0\n",
      "33  v00012_s00045(f008956-f009179)_g00068_f009000.jpg  33      1      0\n",
      "df for i = 1 & j = 1:                                              filename  ID  BMU_x  BMU_y\n",
      "7   v00002_s00095(f006787-f006883)_g00146_f006833.jpg   7      1      1\n",
      "10  v00003_s00028(f003123-f003198)_g00043_f003176.jpg  10      1      1\n",
      "11  v00004_s00014(f002349-f002488)_g00027_f002397.jpg  11      1      1\n",
      "12  v00004_s00048(f006290-f006400)_g00077_f006353.jpg  12      1      1\n",
      "13  v00005_s00010(f001006-f001053)_g00016_f001048.jpg  13      1      1\n",
      "df for i = 1 & j = 2:                                              filename  ID  BMU_x  BMU_y\n",
      "0   v00000_s00000(f000000-f000013)_g00000_f000000.jpg   0      1      2\n",
      "5   v00002_s00034(f002452-f002503)_g00046_f002487.jpg   5      1      2\n",
      "16  v00006_s00033(f004957-f005173)_g00078_f005125.jpg  16      1      2\n",
      "17  v00007_s00006(f001917-f002050)_g00030_f002000.jpg  17      1      2\n",
      "18  v00007_s00019(f005111-f005271)_g00080_f005175.jpg  18      1      2\n",
      "df for i = 1 & j = 3: Empty DataFrame\n",
      "Columns: [filename, ID, BMU_x, BMU_y]\n",
      "Index: []\n",
      "df for i = 1 & j = 4: Empty DataFrame\n",
      "Columns: [filename, ID, BMU_x, BMU_y]\n",
      "Index: []\n",
      "df for i = 2 & j = 0:                                                filename    ID  BMU_x  BMU_y\n",
      "246   v00092_s00034(f005654-f005795)_g00059_f005700.jpg   246      2      0\n",
      "271   v00099_s00039(f005445-f005557)_g00061_f005514.jpg   271      2      0\n",
      "402   v00142_s00046(f005942-f006030)_g00060_f005994.jpg   402      2      0\n",
      "486   v00168_s00035(f009949-f010743)_g00058_f010625.jpg   486      2      0\n",
      "1029  v00362_s00007(f001159-f001256)_g00025_f001225.jpg  1029      2      0\n",
      "df for i = 2 & j = 1:                                              filename  ID  BMU_x  BMU_y\n",
      "2   v00000_s00029(f006081-f006173)_g00100_f006150.jpg   2      2      1\n",
      "4   v00001_s00053(f007125-f007189)_g00085_f007162.jpg   4      2      1\n",
      "6   v00002_s00062(f004514-f004638)_g00096_f004585.jpg   6      2      1\n",
      "29  v00011_s00010(f000961-f001112)_g00016_f001108.jpg  29      2      1\n",
      "44  v00016_s00068(f006731-f006785)_g00079_f006773.jpg  44      2      1\n",
      "df for i = 2 & j = 2: Empty DataFrame\n",
      "Columns: [filename, ID, BMU_x, BMU_y]\n",
      "Index: []\n",
      "df for i = 2 & j = 3: Empty DataFrame\n",
      "Columns: [filename, ID, BMU_x, BMU_y]\n",
      "Index: []\n",
      "df for i = 2 & j = 4: Empty DataFrame\n",
      "Columns: [filename, ID, BMU_x, BMU_y]\n",
      "Index: []\n",
      "df for i = 3 & j = 0: Empty DataFrame\n",
      "Columns: [filename, ID, BMU_x, BMU_y]\n",
      "Index: []\n",
      "df for i = 3 & j = 1: Empty DataFrame\n",
      "Columns: [filename, ID, BMU_x, BMU_y]\n",
      "Index: []\n",
      "df for i = 3 & j = 2: Empty DataFrame\n",
      "Columns: [filename, ID, BMU_x, BMU_y]\n",
      "Index: []\n",
      "df for i = 3 & j = 3: Empty DataFrame\n",
      "Columns: [filename, ID, BMU_x, BMU_y]\n",
      "Index: []\n",
      "df for i = 3 & j = 4: Empty DataFrame\n",
      "Columns: [filename, ID, BMU_x, BMU_y]\n",
      "Index: []\n",
      "df for i = 4 & j = 0: Empty DataFrame\n",
      "Columns: [filename, ID, BMU_x, BMU_y]\n",
      "Index: []\n",
      "df for i = 4 & j = 1: Empty DataFrame\n",
      "Columns: [filename, ID, BMU_x, BMU_y]\n",
      "Index: []\n",
      "df for i = 4 & j = 2: Empty DataFrame\n",
      "Columns: [filename, ID, BMU_x, BMU_y]\n",
      "Index: []\n",
      "df for i = 4 & j = 3: Empty DataFrame\n",
      "Columns: [filename, ID, BMU_x, BMU_y]\n",
      "Index: []\n",
      "df for i = 4 & j = 4: Empty DataFrame\n",
      "Columns: [filename, ID, BMU_x, BMU_y]\n",
      "Index: []\n"
     ]
    }
   ],
   "source": [
    "som.select_images(df)"
   ]
  },
  {
   "cell_type": "code",
   "execution_count": null,
   "metadata": {},
   "outputs": [],
   "source": []
  }
 ],
 "metadata": {
  "kernelspec": {
   "display_name": "Python 3",
   "language": "python",
   "name": "python3"
  },
  "language_info": {
   "codemirror_mode": {
    "name": "ipython",
    "version": 3
   },
   "file_extension": ".py",
   "mimetype": "text/x-python",
   "name": "python",
   "nbconvert_exporter": "python",
   "pygments_lexer": "ipython3",
   "version": "3.7.3"
  }
 },
 "nbformat": 4,
 "nbformat_minor": 2
}
